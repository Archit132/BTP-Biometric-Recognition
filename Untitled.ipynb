{
 "cells": [
  {
   "cell_type": "code",
   "execution_count": 4,
   "id": "ff97a15c-c582-4779-97cc-01a7509dd111",
   "metadata": {
    "tags": []
   },
   "outputs": [],
   "source": [
    "from finegerprint_pipline import fingerprint_pipline\n",
    "import os\n",
    "from PIL import Image\n",
    "import cv2\n",
    "# set the directory path\n",
    "directory = \"./sample_inputs\""
   ]
  },
  {
   "cell_type": "code",
   "execution_count": 10,
   "id": "8adf0da6-27c9-4b11-aac8-56945f8893d7",
   "metadata": {
    "tags": []
   },
   "outputs": [
    {
     "name": "stdout",
     "output_type": "stream",
     "text": [
      "./sample_inputs/101_1.tif\n",
      "./sample_inputs/101_2.tif\n",
      "./sample_inputs/101_3.tif\n",
      "./sample_inputs/101_4.tif\n",
      "./sample_inputs/101_5.tif\n",
      "./sample_inputs/101_6.tif\n",
      "./sample_inputs/101_7.tif\n",
      "./sample_inputs/101_8.tif\n",
      "./sample_inputs/102_1.tif\n",
      "./sample_inputs/102_2.tif\n",
      "./sample_inputs/102_3.tif\n",
      "./sample_inputs/102_4.tif\n",
      "./sample_inputs/102_5.tif\n",
      "./sample_inputs/102_6.tif\n",
      "./sample_inputs/102_7.tif\n",
      "./sample_inputs/102_8.tif\n",
      "./sample_inputs/103_1.tif\n",
      "./sample_inputs/103_2.tif\n",
      "./sample_inputs/103_3.tif\n",
      "./sample_inputs/103_4.tif\n",
      "./sample_inputs/103_5.tif\n",
      "./sample_inputs/103_6.tif\n",
      "./sample_inputs/103_7.tif\n",
      "./sample_inputs/103_8.tif\n",
      "./sample_inputs/104_1.tif\n",
      "./sample_inputs/104_2.tif\n",
      "./sample_inputs/104_3.tif\n",
      "./sample_inputs/104_4.tif\n",
      "./sample_inputs/104_5.tif\n",
      "./sample_inputs/104_6.tif\n",
      "./sample_inputs/104_7.tif\n",
      "./sample_inputs/104_8.tif\n",
      "./sample_inputs/105_1.tif\n",
      "./sample_inputs/105_2.tif\n",
      "./sample_inputs/105_3.tif\n",
      "./sample_inputs/105_4.tif\n",
      "./sample_inputs/105_5.tif\n",
      "./sample_inputs/105_6.tif\n",
      "./sample_inputs/105_7.tif\n",
      "./sample_inputs/105_8.tif\n",
      "./sample_inputs/106_1.tif\n",
      "./sample_inputs/106_2.tif\n",
      "./sample_inputs/106_3.tif\n",
      "./sample_inputs/106_4.tif\n",
      "./sample_inputs/106_5.tif\n",
      "./sample_inputs/106_6.tif\n",
      "./sample_inputs/106_7.tif\n",
      "./sample_inputs/106_8.tif\n",
      "./sample_inputs/107_1.tif\n",
      "./sample_inputs/107_2.tif\n",
      "./sample_inputs/107_3.tif\n",
      "./sample_inputs/107_4.tif\n",
      "./sample_inputs/107_5.tif\n",
      "./sample_inputs/107_6.tif\n",
      "./sample_inputs/107_7.tif\n",
      "./sample_inputs/107_8.tif\n",
      "./sample_inputs/108_1.tif\n",
      "./sample_inputs/108_2.tif\n",
      "./sample_inputs/108_3.tif\n",
      "./sample_inputs/108_4.tif\n",
      "./sample_inputs/108_5.tif\n",
      "./sample_inputs/108_6.tif\n",
      "./sample_inputs/108_7.tif\n",
      "./sample_inputs/108_8.tif\n",
      "./sample_inputs/109_1.tif\n",
      "./sample_inputs/109_2.tif\n",
      "./sample_inputs/109_3.tif\n",
      "./sample_inputs/109_4.tif\n",
      "./sample_inputs/109_5.tif\n",
      "./sample_inputs/109_6.tif\n",
      "./sample_inputs/109_7.tif\n",
      "./sample_inputs/109_8.tif\n",
      "./sample_inputs/110_1.tif\n",
      "./sample_inputs/110_2.tif\n",
      "./sample_inputs/110_3.tif\n",
      "./sample_inputs/110_4.tif\n",
      "./sample_inputs/110_5.tif\n",
      "./sample_inputs/110_6.tif\n",
      "./sample_inputs/110_7.tif\n",
      "./sample_inputs/110_8.tif\n"
     ]
    }
   ],
   "source": [
    "for filename in os.listdir(directory):\n",
    "    if filename.endswith(\".tif\"):\n",
    "        print(directory+\"/\"+filename)\n",
    "        img = cv2.imread(directory+\"/\"+filename, 0)\n",
    "        img = fingerprint_pipline(img)\n",
    "        cv2.imwrite(directory+\"/\"+filename, img)"
   ]
  },
  {
   "cell_type": "code",
   "execution_count": null,
   "id": "fefdc440-e836-42cb-8034-f9e69e563fcd",
   "metadata": {},
   "outputs": [],
   "source": []
  }
 ],
 "metadata": {
  "kernelspec": {
   "display_name": "Python 3 (ipykernel)",
   "language": "python",
   "name": "python3"
  },
  "language_info": {
   "codemirror_mode": {
    "name": "ipython",
    "version": 3
   },
   "file_extension": ".py",
   "mimetype": "text/x-python",
   "name": "python",
   "nbconvert_exporter": "python",
   "pygments_lexer": "ipython3",
   "version": "3.11.3"
  }
 },
 "nbformat": 4,
 "nbformat_minor": 5
}
